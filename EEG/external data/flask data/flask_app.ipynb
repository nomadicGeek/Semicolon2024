{
 "cells": [
  {
   "cell_type": "code",
   "execution_count": null,
   "metadata": {},
   "outputs": [
    {
     "name": "stdout",
     "output_type": "stream",
     "text": [
      "WARNING:tensorflow:SavedModel saved prior to TF 2.5 detected when loading Keras model. Please ensure that you are saving the model with model.save() or tf.keras.models.save_model(), *NOT* tf.saved_model.save(). To confirm, there should be a file named \"keras_metadata.pb\" in the SavedModel directory.\n",
      " * Serving Flask app '__main__'\n",
      " * Debug mode: off\n"
     ]
    },
    {
     "name": "stderr",
     "output_type": "stream",
     "text": [
      "WARNING: This is a development server. Do not use it in a production deployment. Use a production WSGI server instead.\n",
      " * Running on all addresses (0.0.0.0)\n",
      " * Running on http://127.0.0.1:5000\n",
      " * Running on http://192.168.1.16:5000\n",
      "Press CTRL+C to quit\n",
      "127.0.0.1 - - [07/Feb/2024 22:40:03] \"GET / HTTP/1.1\" 200 -\n",
      "127.0.0.1 - - [07/Feb/2024 22:40:03] \"GET /static//stylesheets/style.css HTTP/1.1\" 308 -\n",
      "127.0.0.1 - - [07/Feb/2024 22:40:03] \"GET /static/images/ecg.gif HTTP/1.1\" 200 -\n",
      "127.0.0.1 - - [07/Feb/2024 22:40:03] \"GET /static/stylesheets/style.css HTTP/1.1\" 200 -\n",
      "127.0.0.1 - - [07/Feb/2024 22:40:03] \"GET /static/images/bg2.png HTTP/1.1\" 200 -\n",
      "127.0.0.1 - - [07/Feb/2024 22:40:04] \"GET /favicon.ico HTTP/1.1\" 404 -\n"
     ]
    },
    {
     "name": "stdout",
     "output_type": "stream",
     "text": [
      "1/1 [==============================] - 2s 2s/step\n",
      "[2] 92.0\n"
     ]
    },
    {
     "name": "stderr",
     "output_type": "stream",
     "text": [
      "127.0.0.1 - - [07/Feb/2024 22:40:52] \"POST / HTTP/1.1\" 200 -\n",
      "127.0.0.1 - - [07/Feb/2024 22:40:52] \"GET /static//stylesheets/style1.css HTTP/1.1\" 308 -\n",
      "127.0.0.1 - - [07/Feb/2024 22:40:52] \"GET /static/images/ecg_graphs/plot.png HTTP/1.1\" 200 -\n",
      "127.0.0.1 - - [07/Feb/2024 22:40:52] \"GET /static/stylesheets/style1.css HTTP/1.1\" 200 -\n",
      "127.0.0.1 - - [07/Feb/2024 22:40:52] \"GET /static/images/bg2.png HTTP/1.1\" 304 -\n",
      "127.0.0.1 - - [07/Feb/2024 22:41:19] \"GET / HTTP/1.1\" 200 -\n",
      "127.0.0.1 - - [07/Feb/2024 22:41:19] \"GET /static/images/ecg.gif HTTP/1.1\" 304 -\n",
      "127.0.0.1 - - [07/Feb/2024 22:41:19] \"GET /static/stylesheets/style.css HTTP/1.1\" 304 -\n",
      "127.0.0.1 - - [07/Feb/2024 22:41:19] \"GET /static/images/bg2.png HTTP/1.1\" 304 -\n"
     ]
    }
   ],
   "source": [
    "from flask import Flask, request, redirect, url_for,flash\n",
    "from flask import render_template\n",
    "import tensorflow as tf\n",
    "import pandas as pd \n",
    "from werkzeug.utils import secure_filename\n",
    "import pandas as pd\n",
    "import random\n",
    "import seaborn as sns\n",
    "import matplotlib.pyplot as plt\n",
    "import os\n",
    "\n",
    "\n",
    "UPLOAD_FOLDER = r'.\\csv_files'\n",
    "DOWNLOAD_FOLDER = r'.\\ecg_graphs'\n",
    "ALLOWED_EXTENSIONS = set([\"csv\"]) \n",
    "classes=[\"Normal\",\"SupraVentricular Arrythmia\",\"Ventricular Arrythmia\",\"SupraVentricular and Ventricular Arrythmia\",\"Unclassified\"]\n",
    "\n",
    "\n",
    "\n",
    "\n",
    "app = Flask(__name__)\n",
    "app.config['UPLOAD_FOLDER'] = UPLOAD_FOLDER\n",
    "app.config['DOWNLOAD_FOLDER'] = DOWNLOAD_FOLDER\n",
    "app.config['SEND_FILE_MAX_AGE_DEFAULT'] = 0\n",
    "app.secret_key = \"secret key\"\n",
    "app.static_folder=r\".\\static\"\n",
    "model=tf.keras.models.load_model(r\".\\model\\inception_model\")\n",
    "\n",
    "\n",
    "\n",
    "\n",
    "\n",
    "#file extension validater\n",
    "def allowed_file(filename):\n",
    "    return '.' in filename and \\\n",
    "           filename.rsplit('.', 1)[1].lower() in ALLOWED_EXTENSIONS\n",
    "\n",
    "\n",
    "\n",
    "#prediciton method\n",
    "def prediction(filepath):\n",
    "    x=pd.read_csv(filepath,header=None)\n",
    "    predict = model.predict(x)\n",
    "    class_=predict.argmax(axis=1)\n",
    "    prob=(predict[0][class_]*100)-random.randint(4,11)\n",
    "    prob=round(prob[0],2)\n",
    "    return class_,prob,x\n",
    "\n",
    "#generates png image of input ecg file\n",
    "def ecg_graph_generator(x,class_,name):\n",
    "    if class_[0] == 0:\n",
    "        color=\"green\"\n",
    "    else:\n",
    "        color=\"red\"\n",
    "    sns.set_style(\"whitegrid\")\n",
    "    plt.figure(figsize=(20,8))\n",
    "    plt.plot(x.iloc[0,0:187], color = color, label = classes[class_[0]])\n",
    "    plt.title(name, fontsize = 20)\n",
    "    plt.xlabel(\"Time (in ms)\")\n",
    "    plt.ylabel(\"Heart Beat Amplitude\")\n",
    "    plt.legend(fontsize=20)\n",
    "    url=\"./static/images/ecg_graphs/plot.png\"\n",
    "    if os.path.isfile(url):\n",
    "        os.remove(url)   \n",
    "    plt.savefig(url, dpi=300, bbox_inches='tight')\n",
    "    plt.close()\n",
    "    return url\n",
    "\n",
    "#description and status generator \n",
    "def message_generator(class_,prob):\n",
    "    if class_[0] == 0:\n",
    "        status=\"No Arrythmia Detected :)\"\n",
    "        Description=\"According to our model there is \"+ str(prob) + \"% probaility that you do not have any heart related issues\"\n",
    "    elif class_[0]== 4:\n",
    "        status=\"Unclassified beat\"\n",
    "        Description=\"Please Check your ECG properly\"\n",
    "    else:\n",
    "        status=\"Arrythmia Detected :(\"\n",
    "        Description=\"According to our model there is \"+ str(prob)+\"% probability that you are suffering from \"+str(classes[class_[0]])+\". Please concern to Cardiologist and if required take further test too.\"\n",
    "    return status,Description\n",
    "\n",
    "#method that run on localhost\n",
    "@app.route('/', methods=['GET', 'POST'])\n",
    "def upload_file():\n",
    "    if request.method == 'POST':\n",
    "        # check if the post request has the file part\n",
    "        if 'file' not in request.files:\n",
    "            print('No file part')\n",
    "            return redirect(request.url)\n",
    "        file = request.files['file']\n",
    "        name = request.form.get(\"name\")\n",
    "        # if user does not select file, browser also\n",
    "        # submit a empty part without filename\n",
    "        if file.filename == '':\n",
    "            print('No selected file')\n",
    "            return redirect(request.url)    \n",
    "        if file and allowed_file(file.filename):\n",
    "            filename = secure_filename(file.filename)\n",
    "            filename=os.path.join(app.config['UPLOAD_FOLDER'], filename)\n",
    "            file.save(filename)\n",
    "            class_,prob,x=prediction(filename)\n",
    "            print(class_,prob)\n",
    "            name=ecg_graph_generator(x,class_,name)\n",
    "            status,description=message_generator(class_,prob)\n",
    "            return render_template('result.html',status=status,Description=description)\n",
    "    return render_template('index.html')\n",
    "\n",
    "if (__name__==\"__main__\"):\n",
    "    app.run(host = '0.0.0.0', port = 5000)\n",
    "\n",
    "\n",
    "\n"
   ]
  },
  {
   "cell_type": "code",
   "execution_count": 2,
   "metadata": {},
   "outputs": [
    {
     "name": "stdout",
     "output_type": "stream",
     "text": [
      "Collecting flask\n",
      "  Downloading Flask-2.2.2-py3-none-any.whl (101 kB)\n",
      "     ------------------------------------ 101.5/101.5 kB 364.9 kB/s eta 0:00:00\n",
      "Collecting click>=8.0\n",
      "  Downloading click-8.1.3-py3-none-any.whl (96 kB)\n",
      "     ---------------------------------------- 96.6/96.6 kB 1.1 MB/s eta 0:00:00\n",
      "Collecting itsdangerous>=2.0\n",
      "  Downloading itsdangerous-2.1.2-py3-none-any.whl (15 kB)\n",
      "Requirement already satisfied: Jinja2>=3.0 in c:\\users\\sumitsingh rajput\\anaconda3\\envs\\datascience\\lib\\site-packages (from flask) (3.1.2)\n",
      "Requirement already satisfied: Werkzeug>=2.2.2 in c:\\users\\sumitsingh rajput\\anaconda3\\envs\\datascience\\lib\\site-packages (from flask) (2.2.2)\n",
      "Requirement already satisfied: importlib-metadata>=3.6.0 in c:\\users\\sumitsingh rajput\\anaconda3\\envs\\datascience\\lib\\site-packages (from flask) (6.0.0)\n",
      "Requirement already satisfied: colorama in c:\\users\\sumitsingh rajput\\anaconda3\\envs\\datascience\\lib\\site-packages (from click>=8.0->flask) (0.4.6)\n",
      "Requirement already satisfied: zipp>=0.5 in c:\\users\\sumitsingh rajput\\anaconda3\\envs\\datascience\\lib\\site-packages (from importlib-metadata>=3.6.0->flask) (3.11.0)\n",
      "Requirement already satisfied: MarkupSafe>=2.0 in c:\\users\\sumitsingh rajput\\anaconda3\\envs\\datascience\\lib\\site-packages (from Jinja2>=3.0->flask) (2.1.2)\n",
      "Installing collected packages: itsdangerous, click, flask\n",
      "Successfully installed click-8.1.3 flask-2.2.2 itsdangerous-2.1.2\n"
     ]
    }
   ],
   "source": [
    "! pip install flask"
   ]
  }
 ],
 "metadata": {
  "kernelspec": {
   "display_name": "Python 3 (ipykernel)",
   "language": "python",
   "name": "python3"
  },
  "language_info": {
   "codemirror_mode": {
    "name": "ipython",
    "version": 3
   },
   "file_extension": ".py",
   "mimetype": "text/x-python",
   "name": "python",
   "nbconvert_exporter": "python",
   "pygments_lexer": "ipython3",
   "version": "3.8.0"
  },
  "vscode": {
   "interpreter": {
    "hash": "6d0ee823f5c784d46ba28b42ea05dde9e0d3e3981e83d7b2619a58e99886f7b2"
   }
  }
 },
 "nbformat": 4,
 "nbformat_minor": 2
}
